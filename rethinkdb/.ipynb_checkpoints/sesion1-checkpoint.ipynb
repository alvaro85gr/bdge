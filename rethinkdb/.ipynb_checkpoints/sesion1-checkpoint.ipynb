{
 "cells": [
  {
   "cell_type": "markdown",
   "metadata": {},
   "source": [
    "![RethinkDB](https://d7umqicpi7263.cloudfront.net/img/product/7c566e29-e8b9-46cd-addc-d620104c3b07/60c2663c-6d17-4639-b51f-3375abd858b0.png)"
   ]
  },
  {
   "cell_type": "markdown",
   "metadata": {},
   "source": [
    "# 1. Instalación de la base de datos"
   ]
  },
  {
   "cell_type": "markdown",
   "metadata": {},
   "source": [
    "Si has llegado hasta aquí ejecutando el docker-compose.yml... !ENHORABUENA! acabas de instalar un servidor de la base de datos RethinkDB. Tras la ejecución, fíjate en la consola de comandos y busca la línea que dice:\n",
    "\n",
    "`rethinkdb_1  | Listening on driver addresses: 127.0.0.1, X.X.X.X`\n",
    "\n",
    "Anota esa segunda IP (X.X.X.X) que aparece, pues la necesitaremos para iniciar la conexión a la base de datos desde el notebook. Si quieres, puedes entrar en la interfaz web de administración de RethinkDB, entrando en tu navegador en `localhost:8080`. Allí encontrarás información diversa sobre tu servidor (bases de datos que contiene, tablas, monitorización, etc...).\n",
    "\n",
    "Para poder conectarnos con la base de datos, antes hay que instalar la librería de python adecuada:"
   ]
  },
  {
   "cell_type": "code",
   "execution_count": 1,
   "metadata": {},
   "outputs": [
    {
     "name": "stdout",
     "output_type": "stream",
     "text": [
      "Requirement already satisfied: rethinkdb in /opt/conda/lib/python3.6/site-packages (2.3.0.post6)\r\n"
     ]
    }
   ],
   "source": [
    "!pip install rethinkdb"
   ]
  },
  {
   "cell_type": "code",
   "execution_count": 1,
   "metadata": {},
   "outputs": [
    {
     "name": "stdout",
     "output_type": "stream",
     "text": [
      "SUCCESS\n"
     ]
    }
   ],
   "source": [
    "import rethinkdb as r\n",
    "ip_client = \"172.31.0.2\" #La IP X.X.X.X \n",
    "if (r.connect(ip_client, 28015).repl()):\n",
    "    print(\"SUCCESS\")\n"
   ]
  },
  {
   "cell_type": "markdown",
   "metadata": {},
   "source": [
    "# 2. Descripción de la base de datos"
   ]
  },
  {
   "cell_type": "markdown",
   "metadata": {},
   "source": [
    "### 2.1 **¿Qué es RethinkDB?**\n",
    "\n",
    "RethinkDB es una base de datos escalable JSON construida para su uso en aplicaciones web en tiempo real. Invierte la arquitectura tradicional de base de datos con un nuevo modo de acceso. En lugar de solicitar los datos con el cambio, el desarrollador puede pedirle a RethinkDB que continuamente le mande los datos actualizados resultantes de una consulta a una aplicación en tiempo real. Esta arquitectura permite reducir drásticamente el tiempo y esfuerzo necesario para construir aplicaciones escalables en tiempo real.\n",
    "\n",
    "Además de ser diseñada desde cero para este tipo de aplicaciones, RethinkDB ofrece un lenguaje de consultas flexible (*ReQL*), operaciones inutuitivas y una API de monitorización. Con todo, es fácil de configurar y aprender a usar. Así pues, teniendo en cuenta su arquitectura, los principales casos de uso de RethinkDB pueden ser:\n",
    "- Aplicaciones web y móviles colaborativas\n",
    "- Plicaciones de análisis en tiempo real\n",
    "- Juegos multijugador\n",
    "- Tiendas en tiempo real\n",
    "- Dispositivos conectados\n",
    "\n",
    "### 2.2 **¿Cómo funciona RethinkDB?**\n",
    "\n",
    "El acceso y manipulación de los datos es sencillo. Tanto desde la interfaz web como desde APIs para Ruby, Python, Java, y JavaScript/Node.js, podemos lanzar consultas al servidor de RethinkDB. En la web se puede encontrar un sencillo tutorial de apenas 10 minutos en el que ponemos en marcha la base de datos y realizamos algunas consultas sencillas Por ejemplo, para la API de Python podemos consultar [este](https://rethinkdb.com/docs/guide/python/)\n",
    "\n",
    "\n",
    "### 2.3 **Posibilidades de modelado de datos**\n",
    "\n",
    "Al ser una base de datos JSON, permite todas las posibilidades que un documento JSON nos ofrece: documentos formados por campos y valores de los mismos, cuyos valores pueden ser a su vez otros documentos, listas, etc....\n",
    "Cada documento y cada tabla poseen una clave primaria primaria que los identifica unívocamente. Si no se especifica, se crea automaticamente un campo `id` y se le asigna un valor cuando se introduce en la base de datos.\n",
    "\n",
    "### 2.4 **Características**\n",
    "\n",
    "#### **Transacciones atómicas**\n",
    "Las operaciones que afectan a un solo documento se realizan de forma atómica, salvo si se trata de una operación no determinista. Además, la actualización de múltiples documentos no se hace de forma atómica.\n",
    "#### **Framework de procesamiento map/reduce**\n",
    "RethinkDB permite el uso de map-reduce de forma sencilla. La secuencia de la operación tiene la siguiente forma:\n",
    "\n",
    "- Una operación **group** opcional que particiona los elementos en multiples grupos.\n",
    "- Una operación **map** que filtra y/o transforma los elementros de la secuencia (o del grupo) en una nueva secuencia (o grupos de secuencias).\n",
    "- Una operación **reduce** que agrega los valores producidos por el map en un solo valor (o un solo valor por cada grupo).\n",
    "\n",
    "#### **Replicación multiservidor**\n",
    "RethinkDB te permite fragmentar y replicar el clúster en base a las tablas. Los ajustes se pueden controlar fácilmente desde la consola de administración web. Además, los comandos de *ReQL* para la configuración de tablas permiten la capacidad de creación de scripts y un control más preciso sobre la replicación, distribuyendo réplicas para tablas individuales en grupos de servidores definidos por el usuario utilizando etiquetas de servidor."
   ]
  },
  {
   "cell_type": "code",
   "execution_count": 2,
   "metadata": {},
   "outputs": [
    {
     "data": {
      "image/jpeg": "[encoded data removed]",
      "text/html": [
       "\n",
       "        <iframe\n",
       "            width=\"400\"\n",
       "            height=\"300\"\n",
       "            src=\"https://www.youtube.com/embed/qKPKsBNw604\"\n",
       "            frameborder=\"0\"\n",
       "            allowfullscreen\n",
       "        ></iframe>\n",
       "        "
      ],
      "text/plain": [
       "<IPython.lib.display.YouTubeVideo at 0x7f588c764668>"
      ]
     },
     "execution_count": 2,
     "metadata": {},
     "output_type": "execute_result"
    }
   ],
   "source": [
    "from IPython.display import YouTubeVideo\n",
    "YouTubeVideo('qKPKsBNw604') # Yes, it can also embed youtube videos.\n",
    "\n"
   ]
  },
  {
   "cell_type": "markdown",
   "metadata": {
    "collapsed": true
   },
   "source": [
    "# 3. Importando los datos de StackOverflow"
   ]
  },
  {
   "cell_type": "markdown",
   "metadata": {},
   "source": [
    "El primer paso será descargar los ficheros CSV de la base de datos de Stackoverflow:"
   ]
  },
  {
   "cell_type": "code",
   "execution_count": 8,
   "metadata": {},
   "outputs": [],
   "source": [
    "%%bash\n",
    "file=../Posts.csv\n",
    "test -e $file || wget http://neuromancer.inf.um.es:8080/es.stackoverflow/`basename ${file}`.gz -O - 2>/dev/null | gunzip > $file"
   ]
  },
  {
   "cell_type": "code",
   "execution_count": 9,
   "metadata": {},
   "outputs": [],
   "source": [
    "%%bash\n",
    "file=../Users.csv\n",
    "test -e $file || wget http://neuromancer.inf.um.es:8080/es.stackoverflow/`basename ${file}`.gz -O - 2>/dev/null | gunzip > $file"
   ]
  },
  {
   "cell_type": "code",
   "execution_count": 10,
   "metadata": {},
   "outputs": [],
   "source": [
    "%%bash\n",
    "file=../Tags.csv\n",
    "test -e $file || wget http://neuromancer.inf.um.es:8080/es.stackoverflow/`basename ${file}`.gz -O - 2>/dev/null | gunzip > $file"
   ]
  },
  {
   "cell_type": "code",
   "execution_count": 11,
   "metadata": {},
   "outputs": [],
   "source": [
    "%%bash\n",
    "file=../Comments.csv\n",
    "test -e $file || wget http://neuromancer.inf.um.es:8080/es.stackoverflow/`basename ${file}`.gz -O - 2>/dev/null | gunzip > $file"
   ]
  },
  {
   "cell_type": "code",
   "execution_count": 12,
   "metadata": {},
   "outputs": [],
   "source": [
    "%%bash\n",
    "file=../Votes.csv\n",
    "test -e $file || wget http://neuromancer.inf.um.es:8080/es.stackoverflow/`basename ${file}`.gz -O - 2>/dev/null | gunzip > $file"
   ]
  },
  {
   "cell_type": "markdown",
   "metadata": {},
   "source": [
    "Ahora debemos importar los ficheros a la base de datos. En primer lugar nos conectamos al servidor y creamos la base de datos:"
   ]
  },
  {
   "cell_type": "code",
   "execution_count": 66,
   "metadata": {},
   "outputs": [
    {
     "data": {
      "text/plain": [
       "<rethinkdb.net.DefaultConnection at 0x7fb90bce8710>"
      ]
     },
     "execution_count": 66,
     "metadata": {},
     "output_type": "execute_result"
    }
   ],
   "source": [
    "ip_client = \"172.31.0.2\"\n",
    "r.connect(ip_client, 28015).repl()\n"
   ]
  },
  {
   "cell_type": "code",
   "execution_count": 10,
   "metadata": {},
   "outputs": [
    {
     "data": {
      "text/plain": [
       "{'config_changes': [{'new_val': {'id': '125c6620-4aa4-4a70-b1da-4ce38c08f25a',\n",
       "    'name': 'stackoverflow'},\n",
       "   'old_val': None}],\n",
       " 'dbs_created': 1}"
      ]
     },
     "execution_count": 10,
     "metadata": {},
     "output_type": "execute_result"
    }
   ],
   "source": [
    "r.db_create('stackoverflow').run()"
   ]
  },
  {
   "cell_type": "markdown",
   "metadata": {},
   "source": [
    "Para conectarse a _shell_ del contenedor donde se está ejecutando el servidor de la base de datos, hay que ejecutar, desde una terminal, el siguiente comando de docker:\n",
    "\n",
    "`$ docker exec -ti rethinkdb_rethinkdb_1 /bin/bash`\n",
    "\n",
    "Una vez detro del contenedor, procedemos a instalar la librería de Python que permite cargar los ficheros CSV con la base de datos de stackoverflow:\n",
    "\n",
    "`apt-get update`\n",
    "\n",
    "`apt-get install python-pip`\n",
    "\n",
    "`pip install rethinkdb`\n",
    "\n",
    "\n",
    "Una vez instalada, desde esa misma terminal, importamos los CSV en sus respectivas tablas (que se crean automáticamente):\n",
    "\n",
    "`rethinkdb import -f /home/jovyan/bdge/Users.csv --format csv --table stackoverflow.Users --pkey Id`\n",
    "\n",
    "`rethinkdb import -f /home/jovyan/bdge/Comments.csv --format csv --table stackoverflow.Comments --pkey Id`\n",
    "\n",
    "`rethinkdb import -f /home/jovyan/bdge/Tags.csv --format csv --table stackoverflow.Tags --pkey Id`\n",
    "\n",
    "`rethinkdb import -f /home/jovyan/bdge/Votes.csv --format csv --table stackoverflow.Votes --pkey Id`\n",
    "\n",
    "`rethinkdb import -f /home/jovyan/bdge/Posts.csv --format csv --table stackoverflow.Posts --pkey Id`"
   ]
  },
  {
   "cell_type": "code",
   "execution_count": 3,
   "metadata": {},
   "outputs": [
    {
     "name": "stdout",
     "output_type": "stream",
     "text": [
      "{'AccountId': '8185157', 'CreationDate': '2016-07-04T12:20:06.363', 'DisplayName': 'Angel Picallo', 'DownVotes': '0', 'Id': '10005', 'LastAccessDate': '2016-08-10T15:56:02.443', 'Location': 'Spain', 'ProfileImageUrl': 'https://www.gravatar.com/avatar/b25440a7aa6256d024383d37f30f2626?s=128&d=identicon&r=PG&f=1', 'Reputation': '1', 'UpVotes': '0', 'Views': '0'}\n",
      "{'AboutMe': '<p>Искренне верю в будущее <a href=\"http://ru.stackoverflow.com/\">сообщества разработчиков программного обеспечения на русском языке</a>. В свободное от модерирования сообщества время работаю в <a href=\"http://stackexchange.com/about/team#Community\">Stack Overflow</a>.</p><br/><br/><p>Если вы хотите сказать мне что-то:</p><br/><br/><p>VK: <code>http://vk.com/nicolas.chabanovsky</code><br><br/>Skype: <code>nicolas.chabanovsky</code><br><br/>Почта: <code>nicolas.chabanovsky@(stackoverflow|gmail).com</code><br><br/>Для личных сообщений: <code>nicolas@chabanovsky.com</code></p><br/><br/><p>Если совсем срочно, можно и по телефону: <code>+7 951 678 10 31</code>.</p><br/><br/><p><a href=\"http://careers.stackoverflow.com/chabanovsky\">Мое резюме</a>.</p><br/>', 'AccountId': '272910', 'Age': '29', 'CreationDate': '2015-10-27T13:14:22.440', 'DisplayName': 'Nicolas Chabanovsky', 'DownVotes': '0', 'Id': '10', 'LastAccessDate': '2017-06-24T10:24:46.340', 'Location': 'Санкт-Петербург', 'Reputation': '101', 'UpVotes': '0', 'Views': '17', 'WebsiteUrl': 'http://ru.stackoverflow.com'}\n",
      "{'AboutMe': '<p>Developer on the Stack Overflow team.  Find me on</p><br/><br/><p><a href=\"http://www.twitter.com/SuperDalgas\" rel=\"nofollow\">Twitter</a><br/><br><br><br/><a href=\"http://blog.stackoverflow.com/2009/05/welcome-stack-overflow-valued-associate-00003/\">Stack Overflow Valued Associate #00003</a></p><br/>', 'AccountId': '2', 'Age': '40', 'CreationDate': '2015-10-26T22:50:12.710', 'DisplayName': 'Geoff Dalgas', 'DownVotes': '0', 'Id': '1', 'LastAccessDate': '2017-05-22T21:45:34.767', 'Location': 'Corvallis, OR', 'Reputation': '101', 'UpVotes': '0', 'Views': '570', 'WebsiteUrl': 'http://stackoverflow.com'}\n"
     ]
    }
   ],
   "source": [
    "#Comprobación de que se han cargado las tablas correctamente (también podemos mirar el interfaz web)\n",
    "i = 0\n",
    "cursor =  r.db(\"stackoverflow\").table('Users').run()\n",
    "for document in cursor:\n",
    "    print(document)\n",
    "    if (i==2): break\n",
    "    i+=1"
   ]
  },
  {
   "cell_type": "markdown",
   "metadata": {},
   "source": [
    "# 4. Consultas"
   ]
  },
  {
   "cell_type": "markdown",
   "metadata": {},
   "source": [
    "## RQ1 What are the distributions of developers that post questions?"
   ]
  },
  {
   "cell_type": "code",
   "execution_count": 61,
   "metadata": {},
   "outputs": [
    {
     "data": {
      "image/png": "[encoded data removed]",
      "text/plain": [
       "<Figure size 1008x504 with 1 Axes>"
      ]
     },
     "metadata": {},
     "output_type": "display_data"
    }
   ],
   "source": [
    "import pandas as pd\n",
    "import numpy as np\n",
    "import matplotlib.pyplot as plt\n",
    "import matplotlib\n",
    "%matplotlib inline\n",
    "matplotlib.style.use('ggplot')\n",
    "\n",
    "cursor =  r.db(\"stackoverflow\").table('Posts').filter({'PostTypeId': '1'}).group('OwnerUserId').count().run()\n",
    "res = list(cursor.values())\n",
    "df = pd.Series(res)\n",
    "df.plot.hist(grid=True, bins=200, rwidth=0.5,\n",
    "                   color='#607c8e', figsize=(14,7),logy=True,\n",
    "                   xticks=np.arange(1,235,6))\n",
    "plt.title('Distribución de desarrolladores por número de posts que publican')\n",
    "plt.xlabel('Nº Posts publicados')\n",
    "plt.ylabel('Nº Desarrolladores')\n",
    "plt.grid(axis='y', alpha=0.75)\n"
   ]
  },
  {
   "cell_type": "markdown",
   "metadata": {},
   "source": [
    "## RQ2 What are the distributions of developers that answer questions?"
   ]
  },
  {
   "cell_type": "code",
   "execution_count": 63,
   "metadata": {},
   "outputs": [
    {
     "data": {
      "image/png": "[encoded data removed]",
      "text/plain": [
       "<Figure size 1008x504 with 1 Axes>"
      ]
     },
     "metadata": {},
     "output_type": "display_data"
    }
   ],
   "source": [
    "import pandas as pd\n",
    "import numpy as np\n",
    "import matplotlib.pyplot as plt\n",
    "import matplotlib\n",
    "%matplotlib inline\n",
    "matplotlib.style.use('ggplot')\n",
    "\n",
    "cursor =  r.db(\"stackoverflow\").table('Posts').filter({'PostTypeId': '2'}).group('OwnerUserId').count().run()\n",
    "res = list(cursor.values())\n",
    "df = pd.Series(res)\n",
    "df.plot.hist(grid=True, bins=200, rwidth=0.5,\n",
    "                   color='#607c8e', figsize=(14,7),logy=True,\n",
    "                   xlim=(0,750),xticks=np.arange(0,750,25))\n",
    "plt.title('Distribución de desarrolladores por número de respuestas que escriben')\n",
    "plt.xlabel('Nº de respuestas')\n",
    "plt.ylabel('Nº Desarrolladores')\n",
    "plt.grid(axis='y', alpha=0.75)"
   ]
  },
  {
   "cell_type": "markdown",
   "metadata": {},
   "source": [
    "## RQ3 Segregation of StackOverflow Community"
   ]
  },
  {
   "cell_type": "code",
   "execution_count": 92,
   "metadata": {},
   "outputs": [
    {
     "data": {
      "image/png": "[encoded data removed]",
      "text/plain": [
       "<Figure size 1008x504 with 1 Axes>"
      ]
     },
     "metadata": {},
     "output_type": "display_data"
    }
   ],
   "source": [
    "cursor =  r.db(\"stackoverflow\").table('Posts').filter({'PostTypeId': '1'}).group('OwnerUserId').count().run()\n",
    "preguntas = pd.DataFrame(data={'usuario':list(cursor.keys()),'num_preg':list(cursor.values())})\n",
    "cursor =  r.db(\"stackoverflow\").table('Posts').filter({'PostTypeId': '2'}).group('OwnerUserId').count().run()\n",
    "respuestas = pd.DataFrame(data={'usuario':list(cursor.keys()),'num_res':list(cursor.values())})\n",
    "\n",
    "join = preguntas.set_index('usuario').join(respuestas.set_index('usuario')).fillna(0)\n",
    "df =  pd.Series(100*join['num_preg']/(join['num_preg']+join['num_res']), index=join.index)\n",
    "df.plot.hist(grid=True, bins=20, rwidth=0.5,color='#607c8e', figsize=(14,7),logy=True,xticks=np.arange(0,105,5))\n",
    "plt.title('Distribución de la proporcion respuestas/posts')\n",
    "plt.xlabel('Porcentaje (%) de posts que son respuestas')\n",
    "plt.ylabel('Nº Desarrolladores')\n",
    "plt.grid(axis='y', alpha=0.75)\n"
   ]
  },
  {
   "cell_type": "markdown",
   "metadata": {},
   "source": [
    "## RQ4 Reciprocity in StackOverflow"
   ]
  },
  {
   "cell_type": "markdown",
   "metadata": {},
   "source": [
    "Explicación:\n",
    "1. Borramos de la tabla posts aquellos posts sin autor (da problemas luego en la consulta)\n",
    "2. Unimos para cada respuesta con su pregunta (procurando que el autor de la respuesta y la pregunta no sean el mismo) y nos quedamos con el campo que indica el autor de la pregunta y la respuesta. \n",
    "3. Con distinct, tomamos solo los pares únicos.\n",
    "4. Luego reordenamos los campos para que aparezca primero el id más pequeño. Esto hará que los pares preguntador-respondedor caigan en la misma \"clave\"\n",
    "5. Agrupamos por clave compuesta, y contamos el número de casos de cada clave\n",
    "6. La solución serán aquellos pares cuya cuenta sea 2 (pues existia el par como preguntador-contestador y contestador-preguntador)\n",
    "\n",
    "**ADVERTENCIA: NO EJECUTAR, TARDA 5 HORAS**"
   ]
  },
  {
   "cell_type": "code",
   "execution_count": 2,
   "metadata": {},
   "outputs": [
    {
     "data": {
      "text/plain": [
       "{'deleted': 0,\n",
       " 'errors': 0,\n",
       " 'inserted': 0,\n",
       " 'replaced': 0,\n",
       " 'skipped': 0,\n",
       " 'unchanged': 0}"
      ]
     },
     "execution_count": 2,
     "metadata": {},
     "output_type": "execute_result"
    }
   ],
   "source": [
    "r.db(\"stackoverflow\").table('Posts').filter(~r.row.has_fields('OwnerUserId')).delete().run()"
   ]
  },
  {
   "cell_type": "code",
   "execution_count": 10,
   "metadata": {},
   "outputs": [
    {
     "name": "stdout",
     "output_type": "stream",
     "text": [
      "CPU times: user 757 ms, sys: 206 ms, total: 964 ms\n",
      "Wall time: 5h 1min 39s\n"
     ]
    }
   ],
   "source": [
    "%%time\n",
    "cursor =  r.db(\"stackoverflow\").table('Posts').inner_join(r.db(\"stackoverflow\").table('Posts').filter({'PostTypeId': '2'}),\\\n",
    "        lambda preg, res: (preg['OwnerUserId'] != res['OwnerUserId'])&(preg['Id'] == res['ParentId'])).map({\\\n",
    "  \"preguntador\": r.row[\"left\"][\"OwnerUserId\"],\n",
    "  \"respondedor\": r.row[\"right\"][\"OwnerUserId\"]\n",
    "})\\\n",
    ".distinct()\\\n",
    ".map({\\\n",
    "  \"preguntador\": r.expr([r.row[\"preguntador\"], r.row[\"respondedor\"]]).min(),\n",
    "  \"respondedor\": r.expr([r.row[\"preguntador\"], r.row[\"respondedor\"]]).max()\n",
    "})\\\n",
    ".group('preguntador', 'respondedor').count().run()\n",
    "reciproco = []\n",
    "for key,value in cursor.items():\n",
    "    if value == 2:\n",
    "        reciproco.append(key)"
   ]
  },
  {
   "cell_type": "code",
   "execution_count": 12,
   "metadata": {},
   "outputs": [
    {
     "data": {
      "text/plain": [
       "116"
      ]
     },
     "execution_count": 12,
     "metadata": {},
     "output_type": "execute_result"
    }
   ],
   "source": [
    "len(reciproco)"
   ]
  },
  {
   "cell_type": "markdown",
   "metadata": {},
   "source": [
    "# 5. Pruebas de eficiencia"
   ]
  },
  {
   "cell_type": "markdown",
   "metadata": {},
   "source": [
    "Para probar la eficiencia de la base de datos, realizaremos tres pruebas distintas en cada tipo de base de datos visto en la asignatura, y compararemos el tiempo de ejecución obtenido con `%timeit` (que ejecuta varias veces y hace la media). Las tres pruebas que realizaremos serán:\n",
    "- Acceso directo a un elemento por valor de clave\n",
    "- Búsqueda de elentos por valor de atributo\n",
    "- Consulta compleja (RQ4)\n",
    "Por ejemplo, en el caso de RethinkDB tendríamos:"
   ]
  },
  {
   "cell_type": "code",
   "execution_count": 14,
   "metadata": {},
   "outputs": [
    {
     "name": "stdout",
     "output_type": "stream",
     "text": [
      "196 µs ± 11.8 µs per loop (mean ± std. dev. of 7 runs, 1000 loops each)\n",
      "26.6 µs ± 37.1 ns per loop (mean ± std. dev. of 7 runs, 10000 loops each)\n"
     ]
    }
   ],
   "source": [
    "%timeit r.db(\"stackoverflow\").table('Posts').get('5').run() #Acceso directo\n",
    "%timeit r.db(\"stackoverflow\").table('Posts').filter({'Tags': '<java>'}) #Búsqueda"
   ]
  },
  {
   "cell_type": "markdown",
   "metadata": {},
   "source": [
    "Los resultados se muestran en las siguientes gráficas (ojo, escala logarítmica en el eje de ordenadas)\n",
    "\n",
    "![](grafico1.png)\n",
    "\n",
    "![](grafico2.png)\n",
    "\n",
    "![](grafico3.png)"
   ]
  },
  {
   "cell_type": "markdown",
   "metadata": {},
   "source": [
    "Nótese como RethinkDB supera a sus competidores en las dos primeras pruebas. Sin embargo, en una consulta tan \"compleja\" como la RQ4, el tiempo de ejecución se dispara a más de 5 horas."
   ]
  }
 ],
 "metadata": {
  "kernelspec": {
   "display_name": "Python 3",
   "language": "python",
   "name": "python3"
  },
  "language_info": {
   "codemirror_mode": {
    "name": "ipython",
    "version": 3
   },
   "file_extension": ".py",
   "mimetype": "text/x-python",
   "name": "python",
   "nbconvert_exporter": "python",
   "pygments_lexer": "ipython3",
   "version": "3.6.6"
  }
 },
 "nbformat": 4,
 "nbformat_minor": 1
}
